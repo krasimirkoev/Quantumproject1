{
 "cells": [
  {
   "cell_type": "code",
   "execution_count": 2,
   "id": "20f43992",
   "metadata": {},
   "outputs": [
    {
     "ename": "ModuleNotFoundError",
     "evalue": "No module named 'qiskit_ignis'",
     "output_type": "error",
     "traceback": [
      "\u001b[1;31m---------------------------------------------------------------------------\u001b[0m",
      "\u001b[1;31mModuleNotFoundError\u001b[0m                       Traceback (most recent call last)",
      "\u001b[1;32m~\\AppData\\Local\\Temp/ipykernel_15644/2287957118.py\u001b[0m in \u001b[0;36m<module>\u001b[1;34m\u001b[0m\n\u001b[0;32m      1\u001b[0m \u001b[1;32mfrom\u001b[0m \u001b[0mqiskit\u001b[0m \u001b[1;32mimport\u001b[0m \u001b[0mClassicalRegister\u001b[0m\u001b[1;33m,\u001b[0m \u001b[0mQuantumCircuit\u001b[0m\u001b[1;33m,\u001b[0m \u001b[0mQuantumRegister\u001b[0m\u001b[1;33m,\u001b[0m \u001b[0mexecute\u001b[0m\u001b[1;33m,\u001b[0m \u001b[0mAer\u001b[0m\u001b[1;33m\u001b[0m\u001b[1;33m\u001b[0m\u001b[0m\n\u001b[0;32m      2\u001b[0m \u001b[1;32mfrom\u001b[0m \u001b[0mqiskit\u001b[0m\u001b[1;33m.\u001b[0m\u001b[0mquantum_info\u001b[0m \u001b[1;32mimport\u001b[0m \u001b[0mstate_fidelity\u001b[0m\u001b[1;33m\u001b[0m\u001b[1;33m\u001b[0m\u001b[0m\n\u001b[1;32m----> 3\u001b[1;33m \u001b[1;32mfrom\u001b[0m \u001b[0mqiskit_ignis\u001b[0m\u001b[1;33m.\u001b[0m\u001b[0mverification\u001b[0m\u001b[1;33m.\u001b[0m\u001b[0mtomography\u001b[0m \u001b[1;32mimport\u001b[0m \u001b[0mstate_tomography_circuits\u001b[0m\u001b[1;33m,\u001b[0m \u001b[0mStateTomographyFitter\u001b[0m\u001b[1;33m\u001b[0m\u001b[1;33m\u001b[0m\u001b[0m\n\u001b[0m\u001b[0;32m      4\u001b[0m \u001b[1;32mfrom\u001b[0m \u001b[0mqiskit_ignis\u001b[0m\u001b[1;33m.\u001b[0m\u001b[0mverification\u001b[0m\u001b[1;33m.\u001b[0m\u001b[0mtomography\u001b[0m \u001b[1;32mimport\u001b[0m \u001b[0mprocess_tomography_circuits\u001b[0m\u001b[1;33m,\u001b[0m \u001b[0mProcessTomographyFitter\u001b[0m\u001b[1;33m\u001b[0m\u001b[1;33m\u001b[0m\u001b[0m\n\u001b[0;32m      5\u001b[0m \u001b[1;33m\u001b[0m\u001b[0m\n",
      "\u001b[1;31mModuleNotFoundError\u001b[0m: No module named 'qiskit_ignis'"
     ]
    }
   ],
   "source": [
    "from qiskit import ClassicalRegister, QuantumCircuit, QuantumRegister, execute, Aer\n",
    "from qiskit.quantum_info import state_fidelity\n",
    "from qiskit_ignis.verification.tomography import state_tomography_circuits, StateTomographyFitter\n",
    "from qiskit_ignis.verification.tomography import process_tomography_circuits, ProcessTomographyFitter\n",
    "\n",
    "# set up quantum and classical registers\n",
    "q = QuantumRegister(2)\n",
    "c = ClassicalRegister(2)\n",
    "\n",
    "# create a quantum circuit\n",
    "circ = QuantumCircuit(q, c)\n",
    "\n",
    "# apply a Hadamard gate to the first qubit\n",
    "circ.h(q[0])\n",
    "\n",
    "# perform a measurement on the first qubit\n",
    "circ.measure(q[0], c[0])\n",
    "\n",
    "# simulate the circuit using the state tomography technique\n",
    "backend = Aer.get_backend('qasm_simulator')\n",
    "tomo_circuits = state_tomography_circuits(circ, q)\n",
    "job = execute(tomo_circuits, backend=backend, shots=8192)\n",
    "tomo_fitter = StateTomographyFitter(job.result(), tomo_circuits)\n",
    "rho_fit = tomo_fitter.fit()\n",
    "\n",
    "# print the fidelity between the ideal and reconstructed density matrices\n",
    "fidelity = state_fidelity(rho_fit, circ)\n",
    "print(fidelity)\n"
   ]
  },
  {
   "cell_type": "code",
   "execution_count": null,
   "id": "a034e1f0",
   "metadata": {},
   "outputs": [],
   "source": []
  }
 ],
 "metadata": {
  "kernelspec": {
   "display_name": "Python 3 (ipykernel)",
   "language": "python",
   "name": "python3"
  },
  "language_info": {
   "codemirror_mode": {
    "name": "ipython",
    "version": 3
   },
   "file_extension": ".py",
   "mimetype": "text/x-python",
   "name": "python",
   "nbconvert_exporter": "python",
   "pygments_lexer": "ipython3",
   "version": "3.9.7"
  }
 },
 "nbformat": 4,
 "nbformat_minor": 5
}
