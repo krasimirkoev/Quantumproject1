{
 "cells": [
  {
   "cell_type": "code",
   "execution_count": 7,
   "id": "eef418e2",
   "metadata": {},
   "outputs": [
    {
     "name": "stdout",
     "output_type": "stream",
     "text": [
      "Generated Quantum Random String: 1111001010\n"
     ]
    }
   ],
   "source": [
    "from qiskit import QuantumCircuit, transpile, assemble, Aer, execute\n",
    "\n",
    "def generate_quantum_random_string(length):\n",
    "    # Create a quantum circuit with the specified number of qubits\n",
    "    num_qubits = length\n",
    "    qc = QuantumCircuit(num_qubits, num_qubits)\n",
    "   \n",
    "    # Apply a Hadamard gate to each qubit\n",
    "    for qubit in range(num_qubits):\n",
    "        qc.h(qubit)\n",
    "   \n",
    "    # Measure the qubits\n",
    "    qc.measure(range(num_qubits), range(num_qubits))\n",
    "   \n",
    "    # Use the Aer simulator to execute the circuit\n",
    "    backend = Aer.get_backend('qasm_simulator')\n",
    "    shots = 1  # Number of times to run the circuit\n",
    "    job = assemble(transpile(qc, backend=backend), shots=shots)\n",
    "    result = backend.run(job).result()\n",
    "   \n",
    "    # Get the measurement result as a binary string\n",
    "    counts = result.get_counts()\n",
    "    random_string = list(counts.keys())[0]\n",
    "   \n",
    "    return random_string\n",
    "\n",
    "# Specify the length of the random string\n",
    "string_length = 10\n",
    "\n",
    "# Generate the random string\n",
    "random_string = generate_quantum_random_string(string_length)\n",
    "print(\"Generated Quantum Random String:\", random_string)\n"
   ]
  },
  {
   "cell_type": "code",
   "execution_count": null,
   "id": "7ea7594c",
   "metadata": {},
   "outputs": [],
   "source": []
  }
 ],
 "metadata": {
  "kernelspec": {
   "display_name": "Python 3 (ipykernel)",
   "language": "python",
   "name": "python3"
  },
  "language_info": {
   "codemirror_mode": {
    "name": "ipython",
    "version": 3
   },
   "file_extension": ".py",
   "mimetype": "text/x-python",
   "name": "python",
   "nbconvert_exporter": "python",
   "pygments_lexer": "ipython3",
   "version": "3.9.7"
  }
 },
 "nbformat": 4,
 "nbformat_minor": 5
}
