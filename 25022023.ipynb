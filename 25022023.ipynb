{
 "cells": [
  {
   "cell_type": "code",
   "execution_count": 1,
   "id": "fadb9da3",
   "metadata": {},
   "outputs": [
    {
     "name": "stdout",
     "output_type": "stream",
     "text": [
      "{'101110': 15, '000101': 21, '110010': 12, '001010': 14, '100001': 16, '111111': 18, '101000': 14, '010110': 16, '001011': 16, '100010': 19, '111110': 16, '010111': 13, '110111': 7, '000000': 15, '010010': 15, '001001': 14, '001101': 11, '111100': 14, '100100': 21, '100011': 17, '111101': 12, '001100': 24, '100000': 19, '000010': 13, '101011': 13, '110101': 18, '110001': 15, '000110': 16, '101111': 15, '010000': 23, '011011': 21, '101100': 21, '110100': 22, '000011': 21, '000111': 17, '110000': 14, '001000': 16, '110011': 16, '101101': 18, '000100': 15, '011001': 8, '100111': 24, '101001': 16, '111010': 24, '001111': 11, '100110': 14, '010101': 22, '011010': 18, '011101': 23, '111000': 17, '010011': 18, '101010': 20, '000001': 23, '110110': 15, '011110': 12, '001110': 13, '111011': 17, '100101': 13, '111001': 13, '011100': 7, '010100': 12, '011111': 14, '011000': 7, '010001': 10}\n"
     ]
    }
   ],
   "source": [
    "from qiskit import ClassicalRegister, QuantumRegister, QuantumCircuit\n",
    "from qiskit import Aer, execute\n",
    "\n",
    "# Define a quantum circuit with six quantum bits (qubits)\n",
    "q = QuantumRegister(6)\n",
    "c = ClassicalRegister(6)\n",
    "qc = QuantumCircuit(q, c)\n",
    "\n",
    "# Apply a Hadamard gate on all qubits to put them into a superposition state\n",
    "qc.h(q)\n",
    "\n",
    "# Apply a series of controlled-NOT gates to create entanglement between the qubits\n",
    "qc.cx(q[0], q[1])\n",
    "qc.cx(q[1], q[2])\n",
    "qc.cx(q[2], q[3])\n",
    "qc.cx(q[3], q[4])\n",
    "qc.cx(q[4], q[5])\n",
    "\n",
    "# Measure all qubits and store the results in classical bits\n",
    "qc.measure(q, c)\n",
    "\n",
    "# Execute the circuit on a quantum simulator\n",
    "backend = Aer.get_backend('qasm_simulator')\n",
    "result = execute(qc, backend, shots=1024).result()\n",
    "counts = result.get_counts(qc)\n",
    "\n",
    "# Print the result, which represents the optimization of the travel problem\n",
    "print(counts)\n"
   ]
  },
  {
   "cell_type": "code",
   "execution_count": null,
   "id": "6a7b21d0",
   "metadata": {},
   "outputs": [],
   "source": []
  },
  {
   "cell_type": "code",
   "execution_count": null,
   "id": "d270a35b",
   "metadata": {},
   "outputs": [],
   "source": []
  }
 ],
 "metadata": {
  "kernelspec": {
   "display_name": "Python 3 (ipykernel)",
   "language": "python",
   "name": "python3"
  },
  "language_info": {
   "codemirror_mode": {
    "name": "ipython",
    "version": 3
   },
   "file_extension": ".py",
   "mimetype": "text/x-python",
   "name": "python",
   "nbconvert_exporter": "python",
   "pygments_lexer": "ipython3",
   "version": "3.9.7"
  }
 },
 "nbformat": 4,
 "nbformat_minor": 5
}
