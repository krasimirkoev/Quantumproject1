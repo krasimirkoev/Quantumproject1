{
 "cells": [
  {
   "cell_type": "code",
   "execution_count": 1,
   "id": "2e8bc754",
   "metadata": {},
   "outputs": [
    {
     "name": "stdout",
     "output_type": "stream",
     "text": [
      "{'0': 547, '1': 477}\n"
     ]
    }
   ],
   "source": [
    "from qiskit import QuantumCircuit, execute, Aer\n",
    "\n",
    "# Create a quantum circuit with one qubit\n",
    "qc = QuantumCircuit(1)\n",
    "\n",
    "# Apply a Hadamard gate to put the qubit into a superposition state\n",
    "qc.h(0)\n",
    "\n",
    "# Measure the qubit to collapse it into either 0 or 1\n",
    "qc.measure_all()\n",
    "\n",
    "# Execute the quantum circuit on a local simulator\n",
    "backend = Aer.get_backend('qasm_simulator')\n",
    "result = execute(qc, backend, shots=1024).result()\n",
    "\n",
    "# Print the result\n",
    "print(result.get_counts(qc))\n"
   ]
  },
  {
   "cell_type": "code",
   "execution_count": 2,
   "id": "e1f46dfe",
   "metadata": {},
   "outputs": [
    {
     "name": "stdout",
     "output_type": "stream",
     "text": [
      "{'1100': 257, '0011': 247, '0000': 265, '1111': 255}\n"
     ]
    }
   ],
   "source": [
    "from qiskit import QuantumCircuit, execute, Aer\n",
    "\n",
    "# Create a quantum circuit with 4 qubits\n",
    "qc = QuantumCircuit(4)\n",
    "\n",
    "# Apply a Hadamard gate to qubits 0 and 2\n",
    "qc.h(0)\n",
    "qc.h(2)\n",
    "\n",
    "# Apply a CNOT gate (controlled-NOT) from qubit 0 to qubit 1\n",
    "qc.cx(0, 1)\n",
    "\n",
    "# Apply a CNOT gate from qubit 2 to qubit 3\n",
    "qc.cx(2, 3)\n",
    "\n",
    "# Measure all qubits\n",
    "qc.measure_all()\n",
    "\n",
    "# Execute the quantum circuit on a local simulator\n",
    "backend = Aer.get_backend('qasm_simulator')\n",
    "result = execute(qc, backend, shots=1024).result()\n",
    "\n",
    "# Print the result\n",
    "print(result.get_counts(qc))\n"
   ]
  },
  {
   "cell_type": "code",
   "execution_count": 3,
   "id": "b9927d3e",
   "metadata": {},
   "outputs": [
    {
     "name": "stdout",
     "output_type": "stream",
     "text": [
      "{'11110000111100': 8, '00000000001111': 5, '00110000110000': 10, '00001111000000': 14, '11001111001100': 9, '11001100110011': 8, '11000011110011': 4, '00000000001100': 5, '11110000111111': 10, '00111100110000': 10, '00110000111111': 7, '11111100001111': 9, '11111100000011': 9, '00001100111100': 9, '00110000110011': 7, '00000011000000': 8, '11000000000000': 10, '00111111001100': 10, '00111100001111': 6, '00111100110011': 2, '00001111111111': 8, '11110000110000': 9, '00001100110011': 3, '00001100001111': 7, '00001111001100': 7, '11001111000000': 7, '00110000111100': 10, '11000000110011': 9, '11001111110011': 6, '11110011111100': 10, '00000000110011': 8, '11000000001100': 12, '00000011001100': 9, '00111111110011': 13, '11110000110011': 6, '00110011000000': 12, '00000011110000': 6, '11110000000000': 5, '11111100001100': 7, '11001100111100': 5, '11000011111100': 8, '11111111001100': 7, '11111100110011': 4, '11111111111111': 12, '11110011110011': 8, '11000000111100': 7, '11001111111100': 6, '11000011000011': 7, '00000000000011': 4, '00110011111111': 10, '00000011111100': 11, '11001100000011': 9, '11111100111111': 9, '11001111110000': 2, '11000000110000': 13, '00001111111100': 5, '11111100110000': 7, '00110011001111': 9, '00110011110000': 9, '00000011111111': 9, '11000000000011': 7, '00000000111100': 12, '11000011110000': 8, '11001100110000': 11, '00111111111111': 10, '11000011111111': 5, '11001100111111': 12, '11001100000000': 10, '11000000001111': 11, '11111111110011': 14, '00111100000011': 8, '00111100111111': 11, '11110011110000': 7, '00001111110011': 9, '00000000111111': 8, '00110000000011': 8, '11111100111100': 16, '00111111001111': 4, '00000011000011': 11, '00111111000000': 11, '00110000001100': 11, '11111111001111': 9, '11110011001111': 6, '00110000000000': 8, '00110011000011': 10, '00001100000000': 9, '00001111000011': 3, '11000000111111': 9, '11001111111111': 13, '00110011110011': 9, '00110011001100': 9, '11111111000000': 8, '00001100000011': 9, '00001100111111': 10, '11110011001100': 8, '11001111000011': 11, '11110000001100': 10, '00001100110000': 12, '11110000001111': 7, '00001111001111': 5, '00000011110011': 7, '11110000000011': 8, '00111111110000': 12, '00000000000000': 9, '11001111001111': 8, '11111111111100': 7, '00001100001100': 5, '00111111000011': 10, '00110011111100': 5, '00000000110000': 5, '00001111110000': 7, '00111100001100': 6, '11111111110000': 4, '11111100000000': 3, '00111100111100': 10, '11110011111111': 5, '11000011001111': 9, '11001100001111': 8, '11111111000011': 2, '11000011001100': 6, '11110011000011': 6, '00111100000000': 4, '11000011000000': 5, '00110000001111': 4, '11110011000000': 11, '00111111111100': 6, '00000011001111': 3, '11001100001100': 5}\n"
     ]
    }
   ],
   "source": [
    "from qiskit import QuantumCircuit, execute, Aer\n",
    "\n",
    "# Create a quantum circuit with 14 qubits\n",
    "qc = QuantumCircuit(14)\n",
    "\n",
    "# Apply Hadamard gates to qubits 0, 2, 4, 6, 8, 10, and 12\n",
    "for i in range(0, 14, 2):\n",
    "    qc.h(i)\n",
    "\n",
    "# Apply CNOT gates from qubits 0, 2, 4, 6, 8, 10, and 12 to their respective successors\n",
    "for i in range(0, 14, 2):\n",
    "    qc.cx(i, i+1)\n",
    "\n",
    "# Measure all qubits\n",
    "qc.measure_all()\n",
    "\n",
    "# Execute the quantum circuit on a local simulator\n",
    "backend = Aer.get_backend('qasm_simulator')\n",
    "result = execute(qc, backend, shots=1024).result()\n",
    "\n",
    "# Print the result\n",
    "print(result.get_counts(qc))\n"
   ]
  },
  {
   "cell_type": "code",
   "execution_count": 4,
   "id": "fd0e7886",
   "metadata": {},
   "outputs": [
    {
     "ename": "NameError",
     "evalue": "name 'np' is not defined",
     "output_type": "error",
     "traceback": [
      "\u001b[1;31m---------------------------------------------------------------------------\u001b[0m",
      "\u001b[1;31mNameError\u001b[0m                                 Traceback (most recent call last)",
      "\u001b[1;32m~\\AppData\\Local\\Temp/ipykernel_5476/552069023.py\u001b[0m in \u001b[0;36m<module>\u001b[1;34m\u001b[0m\n\u001b[0;32m      8\u001b[0m \u001b[1;33m\u001b[0m\u001b[0m\n\u001b[0;32m      9\u001b[0m \u001b[1;31m# Apply a rotation around the x-axis by pi/2\u001b[0m\u001b[1;33m\u001b[0m\u001b[1;33m\u001b[0m\u001b[0m\n\u001b[1;32m---> 10\u001b[1;33m \u001b[0mqc\u001b[0m\u001b[1;33m.\u001b[0m\u001b[0mrx\u001b[0m\u001b[1;33m(\u001b[0m\u001b[0mnp\u001b[0m\u001b[1;33m.\u001b[0m\u001b[0mpi\u001b[0m\u001b[1;33m/\u001b[0m\u001b[1;36m2\u001b[0m\u001b[1;33m,\u001b[0m \u001b[1;36m0\u001b[0m\u001b[1;33m)\u001b[0m\u001b[1;33m\u001b[0m\u001b[1;33m\u001b[0m\u001b[0m\n\u001b[0m\u001b[0;32m     11\u001b[0m \u001b[1;33m\u001b[0m\u001b[0m\n\u001b[0;32m     12\u001b[0m \u001b[1;31m# Measure the qubit to collapse it into either 0 or 1\u001b[0m\u001b[1;33m\u001b[0m\u001b[1;33m\u001b[0m\u001b[0m\n",
      "\u001b[1;31mNameError\u001b[0m: name 'np' is not defined"
     ]
    }
   ],
   "source": [
    "from qiskit import QuantumCircuit, execute, Aer\n",
    "\n",
    "# Create a quantum circuit with one qubit\n",
    "qc = QuantumCircuit(1)\n",
    "\n",
    "# Apply a Hadamard gate to put the qubit into a superposition state\n",
    "qc.h(0)\n",
    "\n",
    "# Apply a rotation around the x-axis by pi/2\n",
    "qc.rx(np.pi/2, 0)\n",
    "\n",
    "# Measure the qubit to collapse it into either 0 or 1\n",
    "qc.measure_all()\n",
    "\n",
    "# Execute the quantum circuit on a local simulator\n",
    "backend = Aer.get_backend('qasm_simulator')\n",
    "result = execute(qc, backend, shots=1024).result()\n",
    "\n",
    "# Print the result\n",
    "print(result.get_counts(qc))\n"
   ]
  },
  {
   "cell_type": "code",
   "execution_count": 5,
   "id": "955e602a",
   "metadata": {},
   "outputs": [
    {
     "ename": "NameError",
     "evalue": "name 'np' is not defined",
     "output_type": "error",
     "traceback": [
      "\u001b[1;31m---------------------------------------------------------------------------\u001b[0m",
      "\u001b[1;31mNameError\u001b[0m                                 Traceback (most recent call last)",
      "\u001b[1;32m~\\AppData\\Local\\Temp/ipykernel_5476/552069023.py\u001b[0m in \u001b[0;36m<module>\u001b[1;34m\u001b[0m\n\u001b[0;32m      8\u001b[0m \u001b[1;33m\u001b[0m\u001b[0m\n\u001b[0;32m      9\u001b[0m \u001b[1;31m# Apply a rotation around the x-axis by pi/2\u001b[0m\u001b[1;33m\u001b[0m\u001b[1;33m\u001b[0m\u001b[0m\n\u001b[1;32m---> 10\u001b[1;33m \u001b[0mqc\u001b[0m\u001b[1;33m.\u001b[0m\u001b[0mrx\u001b[0m\u001b[1;33m(\u001b[0m\u001b[0mnp\u001b[0m\u001b[1;33m.\u001b[0m\u001b[0mpi\u001b[0m\u001b[1;33m/\u001b[0m\u001b[1;36m2\u001b[0m\u001b[1;33m,\u001b[0m \u001b[1;36m0\u001b[0m\u001b[1;33m)\u001b[0m\u001b[1;33m\u001b[0m\u001b[1;33m\u001b[0m\u001b[0m\n\u001b[0m\u001b[0;32m     11\u001b[0m \u001b[1;33m\u001b[0m\u001b[0m\n\u001b[0;32m     12\u001b[0m \u001b[1;31m# Measure the qubit to collapse it into either 0 or 1\u001b[0m\u001b[1;33m\u001b[0m\u001b[1;33m\u001b[0m\u001b[0m\n",
      "\u001b[1;31mNameError\u001b[0m: name 'np' is not defined"
     ]
    }
   ],
   "source": [
    "from qiskit import QuantumCircuit, execute, Aer\n",
    "\n",
    "# Create a quantum circuit with one qubit\n",
    "qc = QuantumCircuit(1)\n",
    "\n",
    "# Apply a Hadamard gate to put the qubit into a superposition state\n",
    "qc.h(0)\n",
    "\n",
    "# Apply a rotation around the x-axis by pi/2\n",
    "qc.rx(np.pi/2, 0)\n",
    "\n",
    "# Measure the qubit to collapse it into either 0 or 1\n",
    "qc.measure_all()\n",
    "\n",
    "# Execute the quantum circuit on a local simulator\n",
    "backend = Aer.get_backend('qasm_simulator')\n",
    "result = execute(qc, backend, shots=1024).result()\n",
    "\n",
    "# Print the result\n",
    "print(result.get_counts(qc))\n"
   ]
  },
  {
   "cell_type": "code",
   "execution_count": null,
   "id": "d3031551",
   "metadata": {},
   "outputs": [],
   "source": [
    "# "
   ]
  }
 ],
 "metadata": {
  "kernelspec": {
   "display_name": "Python 3 (ipykernel)",
   "language": "python",
   "name": "python3"
  },
  "language_info": {
   "codemirror_mode": {
    "name": "ipython",
    "version": 3
   },
   "file_extension": ".py",
   "mimetype": "text/x-python",
   "name": "python",
   "nbconvert_exporter": "python",
   "pygments_lexer": "ipython3",
   "version": "3.9.7"
  }
 },
 "nbformat": 4,
 "nbformat_minor": 5
}
