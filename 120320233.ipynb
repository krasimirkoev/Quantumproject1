{
 "cells": [
  {
   "cell_type": "code",
   "execution_count": 1,
   "id": "99909c15",
   "metadata": {},
   "outputs": [
    {
     "name": "stdout",
     "output_type": "stream",
     "text": [
      "Estimated value: 0.6932038764898262\n"
     ]
    }
   ],
   "source": [
    "import numpy as np\n",
    "from qiskit import QuantumCircuit, execute, Aer\n",
    "\n",
    "# define the function to estimate\n",
    "def f(x):\n",
    "    return np.sin(x) ** 2\n",
    "\n",
    "# create a quantum circuit with one qubit and one classical bit\n",
    "circ = QuantumCircuit(1, 1)\n",
    "\n",
    "# apply a rotation gate to the qubit\n",
    "theta = np.pi * np.random.rand()\n",
    "circ.ry(theta, 0)\n",
    "\n",
    "# measure the qubit and store the result in the classical bit\n",
    "circ.measure(0, 0)\n",
    "\n",
    "# use the local simulator to run the circuit multiple times and estimate the value of the function\n",
    "backend = Aer.get_backend('qasm_simulator')\n",
    "shots = 1000\n",
    "results = execute(circ, backend, shots=shots).result()\n",
    "counts = results.get_counts(circ)\n",
    "estimate = sum([f(int(key, 2)) * counts[key] / shots for key in counts.keys()])\n",
    "\n",
    "# print the estimated value of the function\n",
    "print(\"Estimated value:\", estimate)\n"
   ]
  },
  {
   "cell_type": "code",
   "execution_count": null,
   "id": "cd7b7118",
   "metadata": {},
   "outputs": [],
   "source": []
  }
 ],
 "metadata": {
  "kernelspec": {
   "display_name": "Python 3 (ipykernel)",
   "language": "python",
   "name": "python3"
  },
  "language_info": {
   "codemirror_mode": {
    "name": "ipython",
    "version": 3
   },
   "file_extension": ".py",
   "mimetype": "text/x-python",
   "name": "python",
   "nbconvert_exporter": "python",
   "pygments_lexer": "ipython3",
   "version": "3.9.7"
  }
 },
 "nbformat": 4,
 "nbformat_minor": 5
}
