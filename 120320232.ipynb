{
 "cells": [
  {
   "cell_type": "code",
   "execution_count": 1,
   "id": "6b1ec422",
   "metadata": {},
   "outputs": [
    {
     "name": "stdout",
     "output_type": "stream",
     "text": [
      "{'11': 482, '00': 542}\n"
     ]
    }
   ],
   "source": [
    "from qiskit import QuantumCircuit, execute, Aer\n",
    "\n",
    "# create a quantum circuit with two qubits and two classical bits\n",
    "circ = QuantumCircuit(2, 2)\n",
    "\n",
    "# apply a Hadamard gate to the first qubit\n",
    "circ.h(0)\n",
    "\n",
    "# apply a CNOT gate to the two qubits\n",
    "circ.cx(0, 1)\n",
    "\n",
    "# measure the two qubits and store the results in the two classical bits\n",
    "circ.measure([0, 1], [0, 1])\n",
    "\n",
    "# use the local simulator to run the circuit and get the results\n",
    "backend = Aer.get_backend('qasm_simulator')\n",
    "result = execute(circ, backend).result()\n",
    "\n",
    "# print the counts of each measurement outcome\n",
    "print(result.get_counts(circ))\n"
   ]
  },
  {
   "cell_type": "code",
   "execution_count": null,
   "id": "c83fe3ae",
   "metadata": {},
   "outputs": [],
   "source": []
  }
 ],
 "metadata": {
  "kernelspec": {
   "display_name": "Python 3 (ipykernel)",
   "language": "python",
   "name": "python3"
  },
  "language_info": {
   "codemirror_mode": {
    "name": "ipython",
    "version": 3
   },
   "file_extension": ".py",
   "mimetype": "text/x-python",
   "name": "python",
   "nbconvert_exporter": "python",
   "pygments_lexer": "ipython3",
   "version": "3.9.7"
  }
 },
 "nbformat": 4,
 "nbformat_minor": 5
}
