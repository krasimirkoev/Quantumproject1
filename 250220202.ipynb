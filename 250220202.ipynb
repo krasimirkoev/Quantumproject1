{
 "cells": [
  {
   "cell_type": "code",
   "execution_count": 1,
   "id": "7ff18682",
   "metadata": {},
   "outputs": [
    {
     "name": "stdout",
     "output_type": "stream",
     "text": [
      "{'0': 507, '1': 517}\n"
     ]
    }
   ],
   "source": [
    "from qiskit import ClassicalRegister, QuantumRegister, QuantumCircuit\n",
    "from qiskit import Aer, execute\n",
    "\n",
    "# Define a quantum circuit with one quantum bit (qubit) and one classical bit\n",
    "q = QuantumRegister(1)\n",
    "c = ClassicalRegister(1)\n",
    "qc = QuantumCircuit(q, c)\n",
    "\n",
    "# Apply a Hadamard gate to the qubit to put it into a superposition state\n",
    "qc.h(q[0])\n",
    "\n",
    "# Measure the qubit and store the result in the classical bit\n",
    "qc.measure(q, c)\n",
    "\n",
    "# Execute the circuit on a quantum simulator\n",
    "backend = Aer.get_backend('qasm_simulator')\n",
    "result = execute(qc, backend, shots=1024).result()\n",
    "counts = result.get_counts(qc)\n",
    "\n",
    "# Print the result, which represents the probabilities of measuring the qubit in the 0 and 1 states\n",
    "print(counts)\n"
   ]
  },
  {
   "cell_type": "code",
   "execution_count": null,
   "id": "b1d82d13",
   "metadata": {},
   "outputs": [],
   "source": []
  }
 ],
 "metadata": {
  "kernelspec": {
   "display_name": "Python 3 (ipykernel)",
   "language": "python",
   "name": "python3"
  },
  "language_info": {
   "codemirror_mode": {
    "name": "ipython",
    "version": 3
   },
   "file_extension": ".py",
   "mimetype": "text/x-python",
   "name": "python",
   "nbconvert_exporter": "python",
   "pygments_lexer": "ipython3",
   "version": "3.9.7"
  }
 },
 "nbformat": 4,
 "nbformat_minor": 5
}
