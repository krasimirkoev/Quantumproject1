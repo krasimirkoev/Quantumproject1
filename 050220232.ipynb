{
 "cells": [
  {
   "cell_type": "code",
   "execution_count": 1,
   "id": "ac65f8d0",
   "metadata": {},
   "outputs": [
    {
     "name": "stdout",
     "output_type": "stream",
     "text": [
      "{'101111': 29, '110001': 17, '000110': 11, '001110': 14, '111011': 23, '100101': 19, '101110': 20, '110010': 16, '000101': 24, '110000': 12, '000111': 15, '110011': 18, '101101': 8, '000100': 16, '010001': 20, '100010': 14, '001011': 16, '111110': 22, '001010': 11, '100001': 19, '111111': 16, '011111': 14, '110100': 13, '000011': 24, '101100': 16, '101010': 18, '000001': 15, '110110': 18, '111101': 11, '100011': 18, '001100': 20, '000000': 17, '110111': 21, '010000': 19, '001000': 11, '011101': 18, '011000': 18, '011010': 19, '110101': 15, '000010': 13, '101011': 17, '100110': 13, '001111': 14, '111010': 13, '111100': 23, '001101': 16, '100100': 16, '010101': 18, '001001': 16, '010100': 16, '010010': 9, '011110': 12, '011100': 13, '010110': 13, '101000': 14, '111001': 16, '011001': 15, '100000': 10, '011011': 11, '101001': 14, '010011': 18, '111000': 16, '100111': 9, '010111': 14}\n"
     ]
    }
   ],
   "source": [
    "from qiskit import QuantumCircuit, execute, Aer\n",
    "import numpy as np\n",
    "\n",
    "# Create a quantum circuit with 6 qubits\n",
    "qc = QuantumCircuit(6)\n",
    "\n",
    "# Apply Hadamard gates to all qubits\n",
    "for i in range(6):\n",
    "    qc.h(i)\n",
    "\n",
    "# Measure all qubits\n",
    "qc.measure_all()\n",
    "\n",
    "# Execute the quantum circuit on a local simulator\n",
    "backend = Aer.get_backend('qasm_simulator')\n",
    "result = execute(qc, backend, shots=1024).result()\n",
    "\n",
    "# Print the result\n",
    "print(result.get_counts(qc))\n"
   ]
  },
  {
   "cell_type": "code",
   "execution_count": 2,
   "id": "1c60e962",
   "metadata": {},
   "outputs": [
    {
     "name": "stdout",
     "output_type": "stream",
     "text": [
      "{'11': 230, '01': 255, '00': 262, '10': 277}\n"
     ]
    }
   ],
   "source": [
    "from qiskit import ClassicalRegister, QuantumRegister, QuantumCircuit\n",
    "from qiskit import Aer, execute\n",
    "\n",
    "# Define a quantum circuit with two quantum bits (qubits)\n",
    "q = QuantumRegister(2)\n",
    "c = ClassicalRegister(2)\n",
    "qc = QuantumCircuit(q, c)\n",
    "\n",
    "# Apply a Hadamard gate on both qubits to put them into a superposition state\n",
    "qc.h(q[0])\n",
    "qc.h(q[1])\n",
    "\n",
    "# Apply a controlled-NOT gate to create entanglement between the qubits\n",
    "qc.cx(q[0], q[1])\n",
    "\n",
    "# Measure both qubits and store the results in classical bits\n",
    "qc.measure(q, c)\n",
    "\n",
    "# Execute the circuit on a quantum simulator\n",
    "backend = Aer.get_backend('qasm_simulator')\n",
    "result = execute(qc, backend, shots=1024).result()\n",
    "counts = result.get_counts(qc)\n",
    "\n",
    "# Print the result, which represents the optimization of the travel problem\n",
    "print(counts)\n"
   ]
  },
  {
   "cell_type": "code",
   "execution_count": 3,
   "id": "fda8448f",
   "metadata": {},
   "outputs": [
    {
     "ename": "AttributeError",
     "evalue": "'QuantumCircuit' object has no attribute 'qft'",
     "output_type": "error",
     "traceback": [
      "\u001b[1;31m---------------------------------------------------------------------------\u001b[0m",
      "\u001b[1;31mAttributeError\u001b[0m                            Traceback (most recent call last)",
      "\u001b[1;32m~\\AppData\\Local\\Temp/ipykernel_20748/1498297532.py\u001b[0m in \u001b[0;36m<module>\u001b[1;34m\u001b[0m\n\u001b[0;32m     25\u001b[0m \u001b[1;33m\u001b[0m\u001b[0m\n\u001b[0;32m     26\u001b[0m \u001b[1;31m# Apply a quantum Fourier transform to map the encoded problem to the frequency domain\u001b[0m\u001b[1;33m\u001b[0m\u001b[1;33m\u001b[0m\u001b[0m\n\u001b[1;32m---> 27\u001b[1;33m \u001b[0mqc\u001b[0m\u001b[1;33m.\u001b[0m\u001b[0mqft\u001b[0m\u001b[1;33m(\u001b[0m\u001b[0mq\u001b[0m\u001b[1;33m,\u001b[0m \u001b[1;36m6\u001b[0m\u001b[1;33m)\u001b[0m\u001b[1;33m\u001b[0m\u001b[1;33m\u001b[0m\u001b[0m\n\u001b[0m\u001b[0;32m     28\u001b[0m \u001b[1;33m\u001b[0m\u001b[0m\n\u001b[0;32m     29\u001b[0m \u001b[1;31m# Measure the qubits to get the final solution\u001b[0m\u001b[1;33m\u001b[0m\u001b[1;33m\u001b[0m\u001b[0m\n",
      "\u001b[1;31mAttributeError\u001b[0m: 'QuantumCircuit' object has no attribute 'qft'"
     ]
    }
   ],
   "source": [
    "from qiskit import QuantumRegister, QuantumCircuit, Aer, execute\n",
    "\n",
    "# Define a quantum circuit with 6 qubits\n",
    "q = QuantumRegister(6)\n",
    "qc = QuantumCircuit(q)\n",
    "\n",
    "# Apply a Hadamard gate on each qubit to put them into a superposition state\n",
    "for i in range(6):\n",
    "    qc.h(q[i])\n",
    "\n",
    "# Apply controlled-NOT gates to create entanglement between different qubits\n",
    "qc.cx(q[0], q[1])\n",
    "qc.cx(q[1], q[2])\n",
    "qc.cx(q[2], q[3])\n",
    "qc.cx(q[3], q[4])\n",
    "qc.cx(q[4], q[5])\n",
    "\n",
    "# Apply rotation gates to each qubit to encode the optimization problem\n",
    "qc.rx(0.3, q[0])\n",
    "qc.rx(0.7, q[1])\n",
    "qc.rx(0.2, q[2])\n",
    "qc.rx(0.6, q[3])\n",
    "qc.rx(0.5, q[4])\n",
    "qc.rx(0.1, q[5])\n",
    "\n",
    "# Apply a quantum Fourier transform to map the encoded problem to the frequency domain\n",
    "qc.qft(q, 6)\n",
    "\n",
    "# Measure the qubits to get the final solution\n",
    "for i in range(6):\n",
    "    qc.measure(q[i], i)\n",
    "\n",
    "# Execute the circuit on a quantum simulator\n",
    "backend = Aer.get_backend('qasm_simulator')\n",
    "result = execute(qc, backend, shots=1024).result()\n",
    "counts = result.get_counts(qc)\n",
    "\n",
    "# Print the result, which represents the optimization of the travel problem\n",
    "print(counts)\n"
   ]
  },
  {
   "cell_type": "code",
   "execution_count": null,
   "id": "e6f836cf",
   "metadata": {},
   "outputs": [],
   "source": []
  }
 ],
 "metadata": {
  "kernelspec": {
   "display_name": "Python 3 (ipykernel)",
   "language": "python",
   "name": "python3"
  },
  "language_info": {
   "codemirror_mode": {
    "name": "ipython",
    "version": 3
   },
   "file_extension": ".py",
   "mimetype": "text/x-python",
   "name": "python",
   "nbconvert_exporter": "python",
   "pygments_lexer": "ipython3",
   "version": "3.9.7"
  }
 },
 "nbformat": 4,
 "nbformat_minor": 5
}
