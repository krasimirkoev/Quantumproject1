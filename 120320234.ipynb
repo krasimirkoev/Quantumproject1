{
 "cells": [
  {
   "cell_type": "code",
   "execution_count": 1,
   "id": "b1316790",
   "metadata": {},
   "outputs": [
    {
     "ename": "ModuleNotFoundError",
     "evalue": "No module named 'qiskit_finance'",
     "output_type": "error",
     "traceback": [
      "\u001b[1;31m---------------------------------------------------------------------------\u001b[0m",
      "\u001b[1;31mModuleNotFoundError\u001b[0m                       Traceback (most recent call last)",
      "\u001b[1;32m~\\AppData\\Local\\Temp/ipykernel_24892/1346317077.py\u001b[0m in \u001b[0;36m<module>\u001b[1;34m\u001b[0m\n\u001b[0;32m      1\u001b[0m \u001b[1;32mimport\u001b[0m \u001b[0mnumpy\u001b[0m \u001b[1;32mas\u001b[0m \u001b[0mnp\u001b[0m\u001b[1;33m\u001b[0m\u001b[1;33m\u001b[0m\u001b[0m\n\u001b[1;32m----> 2\u001b[1;33m \u001b[1;32mfrom\u001b[0m \u001b[0mqiskit_finance\u001b[0m \u001b[1;32mimport\u001b[0m \u001b[0mQiskitFinanceError\u001b[0m\u001b[1;33m\u001b[0m\u001b[1;33m\u001b[0m\u001b[0m\n\u001b[0m\u001b[0;32m      3\u001b[0m \u001b[1;32mfrom\u001b[0m \u001b[0mqiskit_finance\u001b[0m\u001b[1;33m.\u001b[0m\u001b[0mapplications\u001b[0m\u001b[1;33m.\u001b[0m\u001b[0moptimization\u001b[0m \u001b[1;32mimport\u001b[0m \u001b[0mEfficientFrontier\u001b[0m\u001b[1;33m\u001b[0m\u001b[1;33m\u001b[0m\u001b[0m\n\u001b[0;32m      4\u001b[0m \u001b[1;32mfrom\u001b[0m \u001b[0mqiskit_finance\u001b[0m\u001b[1;33m.\u001b[0m\u001b[0mdata_providers\u001b[0m \u001b[1;32mimport\u001b[0m \u001b[0mRandomDataProvider\u001b[0m\u001b[1;33m\u001b[0m\u001b[1;33m\u001b[0m\u001b[0m\n\u001b[0;32m      5\u001b[0m \u001b[1;33m\u001b[0m\u001b[0m\n",
      "\u001b[1;31mModuleNotFoundError\u001b[0m: No module named 'qiskit_finance'"
     ]
    }
   ],
   "source": [
    "import numpy as np\n",
    "from qiskit_finance import QiskitFinanceError\n",
    "from qiskit_finance.applications.optimization import EfficientFrontier\n",
    "from qiskit_finance.data_providers import RandomDataProvider\n",
    "\n",
    "# generate random market data for testing\n",
    "num_assets = 4\n",
    "mu = np.random.rand(num_assets)\n",
    "sigma = np.random.rand(num_assets, num_assets)\n",
    "sigma = sigma.dot(sigma.T)\n",
    "\n",
    "try:\n",
    "    # create a random data provider and get the asset prices and covariance matrix\n",
    "    data_provider = RandomDataProvider(tickers=['A', 'B', 'C', 'D'], start='2016-01-01', end='2016-01-30')\n",
    "    asset_prices = data_provider.get_asset_prices()\n",
    "    sigma = data_provider.get_covariance_matrix()\n",
    "\n",
    "    # create an efficient frontier object and calculate the efficient frontier\n",
    "    ef = EfficientFrontier(mu, sigma)\n",
    "    frontier = ef.optimize()\n",
    "    print(frontier)\n",
    "\n",
    "except QiskitFinanceError as ex:\n",
    "    print(ex)\n"
   ]
  },
  {
   "cell_type": "code",
   "execution_count": null,
   "id": "f4d7edb0",
   "metadata": {},
   "outputs": [],
   "source": []
  }
 ],
 "metadata": {
  "kernelspec": {
   "display_name": "Python 3 (ipykernel)",
   "language": "python",
   "name": "python3"
  },
  "language_info": {
   "codemirror_mode": {
    "name": "ipython",
    "version": 3
   },
   "file_extension": ".py",
   "mimetype": "text/x-python",
   "name": "python",
   "nbconvert_exporter": "python",
   "pygments_lexer": "ipython3",
   "version": "3.9.7"
  }
 },
 "nbformat": 4,
 "nbformat_minor": 5
}
