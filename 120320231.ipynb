{
 "cells": [
  {
   "cell_type": "code",
   "execution_count": 1,
   "id": "aadb83a3",
   "metadata": {},
   "outputs": [
    {
     "name": "stdout",
     "output_type": "stream",
     "text": [
      "{'1': 496, '0': 528}\n"
     ]
    }
   ],
   "source": [
    "from qiskit import QuantumCircuit, execute, Aer\n",
    "\n",
    "# create a quantum circuit with one qubit and one classical bit\n",
    "circ = QuantumCircuit(1, 1)\n",
    "\n",
    "# apply a Hadamard gate to the qubit\n",
    "circ.h(0)\n",
    "\n",
    "# measure the qubit and store the result in the classical bit\n",
    "circ.measure(0, 0)\n",
    "\n",
    "# use the local simulator to run the circuit and get the results\n",
    "backend = Aer.get_backend('qasm_simulator')\n",
    "result = execute(circ, backend).result()\n",
    "\n",
    "# print the counts of each measurement outcome\n",
    "print(result.get_counts(circ))\n"
   ]
  },
  {
   "cell_type": "code",
   "execution_count": null,
   "id": "98599c81",
   "metadata": {},
   "outputs": [],
   "source": []
  }
 ],
 "metadata": {
  "kernelspec": {
   "display_name": "Python 3 (ipykernel)",
   "language": "python",
   "name": "python3"
  },
  "language_info": {
   "codemirror_mode": {
    "name": "ipython",
    "version": 3
   },
   "file_extension": ".py",
   "mimetype": "text/x-python",
   "name": "python",
   "nbconvert_exporter": "python",
   "pygments_lexer": "ipython3",
   "version": "3.9.7"
  }
 },
 "nbformat": 4,
 "nbformat_minor": 5
}
